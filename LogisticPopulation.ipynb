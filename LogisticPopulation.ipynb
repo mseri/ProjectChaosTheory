{
  "nbformat": 4,
  "nbformat_minor": 0,
  "metadata": {
    "colab": {
      "name": "LogisticPopulation.ipynb",
      "provenance": [],
      "collapsed_sections": [
        "qfIwMhd7VPmk"
      ]
    },
    "kernelspec": {
      "name": "python3",
      "display_name": "Python 3"
    }
  },
  "cells": [
    {
      "cell_type": "markdown",
      "metadata": {
        "id": "PgnTgg6y-WG6"
      },
      "source": [
        "# Playground for the Logistic Population Model\n",
        "\n"
      ]
    },
    {
      "cell_type": "markdown",
      "metadata": {
        "id": "qfIwMhd7VPmk"
      },
      "source": [
        "## Imports and definitions"
      ]
    },
    {
      "cell_type": "code",
      "metadata": {
        "id": "Jt9Fu3jL-Xjd"
      },
      "source": [
        "# imports\n",
        "import matplotlib.pyplot as plt\n",
        "import numpy as np\n",
        "from numpy import ma\n",
        "from scipy.integrate import solve_ivp"
      ],
      "execution_count": null,
      "outputs": []
    },
    {
      "cell_type": "code",
      "metadata": {
        "id": "rVfS3Ay7-c5o"
      },
      "source": [
        "def plot_slope_field(t_bounds, x_bounds, f, ivs=None):\n",
        "\n",
        "  inv_norm = lambda t,x: 1/np.sqrt(f(t,t)**2+1)\n",
        "  f_norm = lambda t,x: f(x,t)*inv_norm(t,x)\n",
        "\n",
        "  T, X = np.meshgrid(np.arange(*t_bounds), np.arange(*x_bounds))\n",
        "  U, V = inv_norm(X,T), f_norm(X,T)\n",
        "\n",
        "  fig = plt.figure(figsize = (12, 7))\n",
        "  Q = plt.quiver(T, X, U, V, np.abs(V), units='width')\n",
        "  qk = plt.quiverkey(Q, 0.9, 0.9, 2, label=\"m/s\", coordinates='figure')\n",
        "  \n",
        "  plt.xlabel(\"t\")\n",
        "  plt.ylabel(\"x\")\n",
        "  plt.xlim(*t_bounds[0:2])\n",
        "  plt.ylim(*x_bounds[0:2])\n",
        "\n",
        "  if ivs is not None:\n",
        "    if not isinstance(ivs, list):\n",
        "      ivs = [ivs]\n",
        "    t = np.arange(*t_bounds)\n",
        "    for iv in ivs:\n",
        "      y0 = np.array([iv])\n",
        "      y0.reshape(1,)\n",
        "      sol = solve_ivp(fun=f, t_span=t_bounds[0:2], y0=y0, dense_output=True)\n",
        "      plt.plot(t, sol.sol(t)[0])\n",
        "\n",
        "  plt.show()\n"
      ],
      "execution_count": null,
      "outputs": []
    },
    {
      "cell_type": "markdown",
      "metadata": {
        "id": "E4M0787QVWG0"
      },
      "source": [
        "## Main Playground"
      ]
    },
    {
      "cell_type": "code",
      "metadata": {
        "id": "xeCigW7z-yHm"
      },
      "source": [
        "def ex1(a):\n",
        "  return lambda t,x: a * x\n",
        "\n",
        "def ex2(a):\n",
        "  return lambda t,x: a * x * (1- x)\n",
        "\n",
        "def ex3():\n",
        "  return lambda t,x: x * (1- x**2)\n",
        "\n",
        "def ex4(a, h):\n",
        "  return lambda t,x: a * x * (1- x) - h\n",
        "\n",
        "def ex5(a, h):\n",
        "  return lambda t,x: a * x * (1- x) - h*(1 + np.sin(2*np.pi*t))"
      ],
      "execution_count": null,
      "outputs": []
    },
    {
      "cell_type": "code",
      "metadata": {
        "id": "ztgXLKPsCmBu"
      },
      "source": [
        "t_bounds = (-3, 3, .2)\n",
        "x_bounds = (-4, 4, .2)\n",
        "plot_slope_field(t_bounds, x_bounds, ex1(1), [-0.1, 0, 0.1])"
      ],
      "execution_count": null,
      "outputs": []
    }
  ]
}